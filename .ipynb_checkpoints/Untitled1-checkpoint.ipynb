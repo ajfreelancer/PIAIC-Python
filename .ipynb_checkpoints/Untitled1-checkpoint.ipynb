{
 "cells": [
  {
   "cell_type": "markdown",
   "metadata": {},
   "source": [
    "# Upwork"
   ]
  },
  {
   "cell_type": "markdown",
   "metadata": {},
   "source": [
    "Proposal Writing:\n",
    "Start you proposal with a decompression zone:\n",
    "-> aglay ko space do, charhayi matt karo\n",
    "   first speak and then observe him\n",
    "-> Avoid Hybrid proposal\n",
    "   don't give same proposal to everyone, give customized proposal\n",
    "   sending proposal costs you\n",
    "-> Provide only good suggestion\n",
    "-> Be short and more practical\n",
    "-> Try to resemble you work with client's requirements\n",
    "-> Find common ground like same school he have gone\n",
    "-> Additional questions are shown first to the customer\n",
    "-> Ending should be for allowing to ask for more assistance\n",
    "-> Use Hi, {name}\n",
    "-> Don't be a widow/begger.\n",
    "-> Write less, 1 word = 1 year\n",
    "-> If you don't hire me you will get following disadvantages (Threat)\n",
    "-> Play strategically, use techniques\n"
   ]
  },
  {
   "cell_type": "code",
   "execution_count": null,
   "metadata": {},
   "outputs": [],
   "source": []
  }
 ],
 "metadata": {
  "kernelspec": {
   "display_name": "Python 3",
   "language": "python",
   "name": "python3"
  },
  "language_info": {
   "codemirror_mode": {
    "name": "ipython",
    "version": 3
   },
   "file_extension": ".py",
   "mimetype": "text/x-python",
   "name": "python",
   "nbconvert_exporter": "python",
   "pygments_lexer": "ipython3",
   "version": "3.7.4"
  }
 },
 "nbformat": 4,
 "nbformat_minor": 2
}
