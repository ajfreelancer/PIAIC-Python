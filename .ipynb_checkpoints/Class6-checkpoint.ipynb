{
 "cells": [
  {
   "cell_type": "code",
   "execution_count": 6,
   "metadata": {},
   "outputs": [],
   "source": [
    "#Function : Set of statements having a name for reducing repitition\n",
    "#Predefined : which are previously existent\n",
    "#UserDefined : defined by users also using predefined function\n",
    "#Default Function : Takes no argument like day and night\n",
    "#Required Argument: Wihtout which function doesn't work\n",
    "#Function : For avoiding the repetitive work\n",
    "\n",
    "#Function name\n",
    "#Function body\n",
    "\n",
    "#parameter vs arguments\n",
    "\n",
    "#Required Argument Function : in which arguments are necessary\n",
    "#Default Parameter/Argument : Parameter which is previously defined, if not passed, function executes with default parameter\n",
    "#Recursive Function: Infinite many calls to itself, Calls itself in its body. Break point should be defined for result\n",
    "#Generator Function: generates any sequence of numbers like range()\n",
    "    #Benefit: ->Doesn't locate all values in memory\n",
    "            # ->Remembers what values it has assigned before\n",
    "#Lambda Function: A function without a name and one liner and never have been used before and will not be used\n",
    "#Position Arguments : position matters\n",
    "#Keyword Argument : in which position doesn't matter means sequence doesn't matter\n",
    "#Argument with List : used with *(asterik) \n",
    "#Argument with dictionary : ** double asterik when argument is passed as key value"
   ]
  },
  {
   "cell_type": "code",
   "execution_count": 7,
   "metadata": {},
   "outputs": [],
   "source": [
    "def addition(*args):\n",
    "    a = 0\n",
    "    for x in args:\n",
    "        a+=xa\n",
    "    print(a)"
   ]
  },
  {
   "cell_type": "code",
   "execution_count": 8,
   "metadata": {},
   "outputs": [
    {
     "name": "stdout",
     "output_type": "stream",
     "text": [
      "10\n"
     ]
    }
   ],
   "source": [
    "addition(1,2,3,4)"
   ]
  },
  {
   "cell_type": "code",
   "execution_count": 9,
   "metadata": {},
   "outputs": [
    {
     "name": "stdout",
     "output_type": "stream",
     "text": [
      "34\n"
     ]
    }
   ],
   "source": [
    "addition(2,2,2,2,2,22,2)"
   ]
  },
  {
   "cell_type": "markdown",
   "metadata": {},
   "source": [
    "# Predefined Functions"
   ]
  },
  {
   "cell_type": "code",
   "execution_count": 10,
   "metadata": {},
   "outputs": [
    {
     "name": "stdout",
     "output_type": "stream",
     "text": [
      "abc\n",
      "3\n",
      "<class 'int'>\n",
      "2115586695600\n"
     ]
    }
   ],
   "source": [
    "print(\"abc\")\n",
    "print(len(\"abc\"))\n",
    "print(type(22))\n",
    "print(id(\"aa\"))"
   ]
  },
  {
   "cell_type": "markdown",
   "metadata": {},
   "source": [
    "# Userdefined Function"
   ]
  },
  {
   "cell_type": "code",
   "execution_count": 15,
   "metadata": {},
   "outputs": [],
   "source": [
    "def BlaBla(x):  #Function Declaration\n",
    "    for x in range(0,x):    #Function Body Statement 1\n",
    "        print(\"abc\")         #Statement 2 . . .\n",
    "        print(\"def\")\n",
    "        print(\"ghi\")"
   ]
  },
  {
   "cell_type": "code",
   "execution_count": 21,
   "metadata": {},
   "outputs": [
    {
     "name": "stdout",
     "output_type": "stream",
     "text": [
      "abc\n",
      "def\n",
      "ghi\n",
      "abc\n",
      "def\n",
      "ghi\n",
      "abc\n",
      "def\n",
      "ghi\n"
     ]
    }
   ],
   "source": [
    "BlaBla(3)    #Function Calling"
   ]
  },
  {
   "cell_type": "code",
   "execution_count": 22,
   "metadata": {},
   "outputs": [],
   "source": [
    "#Subroutine Functional Programming is same"
   ]
  },
  {
   "cell_type": "code",
   "execution_count": 24,
   "metadata": {},
   "outputs": [],
   "source": [
    "#Functional Programming allowed making blocks in programming\n",
    "#Reduces lines of code"
   ]
  },
  {
   "cell_type": "code",
   "execution_count": 25,
   "metadata": {},
   "outputs": [],
   "source": [
    "#Linear programming is fast because every line is executed in a same manner sequence dont have to goto other files"
   ]
  },
  {
   "cell_type": "code",
   "execution_count": 32,
   "metadata": {},
   "outputs": [],
   "source": [
    "#Procedural Programming and Functional Programming is same"
   ]
  },
  {
   "cell_type": "markdown",
   "metadata": {},
   "source": [
    "# Required Arguments"
   ]
  },
  {
   "cell_type": "code",
   "execution_count": 35,
   "metadata": {},
   "outputs": [],
   "source": [
    "def id_card(sid, sname, fname, course, timing):\n",
    "    text = \"\"\"\n",
    "    PIAIC Islamabad\n",
    "    id : {}\n",
    "    Name : {}\n",
    "    Father's Name : {}\n",
    "    Course : {}\n",
    "    Timing : {}\n",
    "    \"\"\".format(sid, sname, fname, course, timing)\n",
    "    print(text)\n"
   ]
  },
  {
   "cell_type": "code",
   "execution_count": 36,
   "metadata": {},
   "outputs": [
    {
     "name": "stdout",
     "output_type": "stream",
     "text": [
      "\n",
      "    PIAIC Islamabad\n",
      "    id : 1\n",
      "    Name : Ali\n",
      "    Father's Name : Hamza\n",
      "    Course : AI\n",
      "    Timing : 9:00AM\n",
      "    \n"
     ]
    }
   ],
   "source": [
    "id_card(1, \"Ali\", \"Hamza\", \"AI\", \"9:00AM\")"
   ]
  },
  {
   "cell_type": "code",
   "execution_count": 37,
   "metadata": {},
   "outputs": [
    {
     "name": "stdout",
     "output_type": "stream",
     "text": [
      "\n",
      "    PIAIC Islamabad\n",
      "    id : 1\n",
      "    Name : Qasim\n",
      "    Father's Name : Aslam\n",
      "    Course : AI\n",
      "    Timing : 9 to 12\n",
      "    \n",
      "\n",
      "    PIAIC Islamabad\n",
      "    id : 1\n",
      "    Name : Hamza\n",
      "    Father's Name : Khalid\n",
      "    Course : Cloud\n",
      "    Timing : 12 to 3\n",
      "    \n",
      "\n",
      "    PIAIC Islamabad\n",
      "    id : 1\n",
      "    Name : Rauf\n",
      "    Father's Name : Hussain\n",
      "    Course : Cloud Computing\n",
      "    Timing : 9 to 12\n",
      "    \n"
     ]
    }
   ],
   "source": [
    "data = [[1, \"Qasim\", \"Aslam\", \"AI\", \"9 to 12\"],\n",
    "     [1, \"Hamza\", \"Khalid\", \"Cloud\", \"12 to 3\"],\n",
    "     [1, \"Rauf\", \"Hussain\", \"Cloud Computing\", \"9 to 12\"]]\n",
    "for v in data:\n",
    "    id_card(*v)   #list ke all elements passed with * instead of sending it's all "
   ]
  },
  {
   "cell_type": "code",
   "execution_count": 38,
   "metadata": {},
   "outputs": [
    {
     "ename": "TypeError",
     "evalue": "id_card() missing 3 required positional arguments: 'fname', 'course', and 'timing'",
     "output_type": "error",
     "traceback": [
      "\u001b[1;31m---------------------------------------------------------------------------\u001b[0m",
      "\u001b[1;31mTypeError\u001b[0m                                 Traceback (most recent call last)",
      "\u001b[1;32m<ipython-input-38-01f53dd6c629>\u001b[0m in \u001b[0;36m<module>\u001b[1;34m\u001b[0m\n\u001b[1;32m----> 1\u001b[1;33m \u001b[0mid_card\u001b[0m\u001b[1;33m(\u001b[0m\u001b[1;36m2\u001b[0m\u001b[1;33m,\u001b[0m \u001b[1;34m\"Qasim\"\u001b[0m\u001b[1;33m)\u001b[0m\u001b[1;33m\u001b[0m\u001b[1;33m\u001b[0m\u001b[0m\n\u001b[0m",
      "\u001b[1;31mTypeError\u001b[0m: id_card() missing 3 required positional arguments: 'fname', 'course', and 'timing'"
     ]
    }
   ],
   "source": [
    "id_card(2, \"Qasim\")"
   ]
  },
  {
   "cell_type": "markdown",
   "metadata": {},
   "source": [
    "# Optional Arguments"
   ]
  },
  {
   "cell_type": "code",
   "execution_count": 39,
   "metadata": {},
   "outputs": [],
   "source": [
    "def abc(x, y=0, z=0):\n",
    "    print(x,y,z)"
   ]
  },
  {
   "cell_type": "code",
   "execution_count": 41,
   "metadata": {},
   "outputs": [
    {
     "name": "stdout",
     "output_type": "stream",
     "text": [
      "100 0 0\n"
     ]
    }
   ],
   "source": [
    "abc(100)"
   ]
  },
  {
   "cell_type": "code",
   "execution_count": 42,
   "metadata": {},
   "outputs": [
    {
     "name": "stdout",
     "output_type": "stream",
     "text": [
      "5 6 0\n"
     ]
    }
   ],
   "source": [
    "abc(5,6)"
   ]
  },
  {
   "cell_type": "code",
   "execution_count": 43,
   "metadata": {},
   "outputs": [
    {
     "name": "stdout",
     "output_type": "stream",
     "text": [
      "5 6 7\n"
     ]
    }
   ],
   "source": [
    "abc(5,6,7)"
   ]
  },
  {
   "cell_type": "markdown",
   "metadata": {},
   "source": [
    "# Non Return Function"
   ]
  },
  {
   "cell_type": "code",
   "execution_count": null,
   "metadata": {},
   "outputs": [],
   "source": []
  },
  {
   "cell_type": "code",
   "execution_count": 44,
   "metadata": {},
   "outputs": [
    {
     "name": "stdout",
     "output_type": "stream",
     "text": [
      "abc\n"
     ]
    }
   ],
   "source": [
    "a = print(\"abc\")\n",
    "a"
   ]
  },
  {
   "cell_type": "code",
   "execution_count": 45,
   "metadata": {},
   "outputs": [
    {
     "name": "stdout",
     "output_type": "stream",
     "text": [
      "\n",
      "    PIAIC Islamabad\n",
      "    id : 1\n",
      "    Name : A\n",
      "    Father's Name : B\n",
      "    Course : C\n",
      "    Timing : D\n",
      "    \n",
      "None\n"
     ]
    }
   ],
   "source": [
    "a = id_card(1,'A','B','C','D')\n",
    "print(a)"
   ]
  },
  {
   "cell_type": "code",
   "execution_count": 46,
   "metadata": {},
   "outputs": [],
   "source": [
    "def addition(*args):\n",
    "    a=0\n",
    "    for x in args:\n",
    "        a+=x\n",
    "    return a"
   ]
  },
  {
   "cell_type": "code",
   "execution_count": 47,
   "metadata": {},
   "outputs": [
    {
     "data": {
      "text/plain": [
       "10"
      ]
     },
     "execution_count": 47,
     "metadata": {},
     "output_type": "execute_result"
    }
   ],
   "source": [
    "addition(1,2,3,4)"
   ]
  },
  {
   "cell_type": "code",
   "execution_count": 60,
   "metadata": {},
   "outputs": [],
   "source": [
    "# multiple return\n",
    "def id_card(sid, sname, fname, course, timing):\n",
    "    text = \"\"\"\n",
    "    PIAIC Islamabad\n",
    "    id : {}\n",
    "    Name : {}\n",
    "    Father's Name : {}\n",
    "    Course : {}\n",
    "    Timing : {}\n",
    "    \"\"\".format(sid, sname, fname, course, timing)\n",
    "    return text, \"Qasim\", \"Ali\" #returned as tuple\n"
   ]
  },
  {
   "cell_type": "code",
   "execution_count": 52,
   "metadata": {},
   "outputs": [
    {
     "name": "stdout",
     "output_type": "stream",
     "text": [
      "\n",
      "    PIAIC Islamabad\n",
      "    id : 1\n",
      "    Name : a\n",
      "    Father's Name : b\n",
      "    Course : c\n",
      "    Timing : d\n",
      "     Qasim Ali\n"
     ]
    }
   ],
   "source": [
    "print(*id_card(1,'a','b','c','d'))  #to print every value in tuple"
   ]
  },
  {
   "cell_type": "code",
   "execution_count": 53,
   "metadata": {},
   "outputs": [],
   "source": [
    "def abc(x=0,y=0,z=0):\n",
    "    return x*y*z"
   ]
  },
  {
   "cell_type": "code",
   "execution_count": 54,
   "metadata": {},
   "outputs": [
    {
     "data": {
      "text/plain": [
       "0"
      ]
     },
     "execution_count": 54,
     "metadata": {},
     "output_type": "execute_result"
    }
   ],
   "source": [
    "abc()"
   ]
  },
  {
   "cell_type": "code",
   "execution_count": 55,
   "metadata": {},
   "outputs": [
    {
     "data": {
      "text/plain": [
       "6"
      ]
     },
     "execution_count": 55,
     "metadata": {},
     "output_type": "execute_result"
    }
   ],
   "source": [
    "abc(1,2,3)"
   ]
  },
  {
   "cell_type": "markdown",
   "metadata": {},
   "source": [
    "# Keyword Arguments"
   ]
  },
  {
   "cell_type": "code",
   "execution_count": 67,
   "metadata": {},
   "outputs": [
    {
     "name": "stdout",
     "output_type": "stream",
     "text": [
      "\n",
      "    PIAIC Islamabad\n",
      "    id : 1\n",
      "    Name : Ali\n",
      "    Father's Name : Khan\n",
      "    Course : CS\n",
      "    Timing : 9\n",
      "    \n"
     ]
    }
   ],
   "source": [
    "# multiple return\n",
    "def id_card(sid, sname, fname, course, timing):\n",
    "    text = \"\"\"\n",
    "    PIAIC Islamabad\n",
    "    id : {}\n",
    "    Name : {}\n",
    "    Father's Name : {}\n",
    "    Course : {}\n",
    "    Timing : {}\n",
    "    \"\"\".format(sid, sname, fname, course, timing)\n",
    "    return text\n",
    "\n",
    "print(id_card(sname='Ali',fname='Khan',course=\"CS\", timing=\"9\", sid=\"1\"))"
   ]
  },
  {
   "cell_type": "code",
   "execution_count": 63,
   "metadata": {},
   "outputs": [
    {
     "name": "stdout",
     "output_type": "stream",
     "text": [
      "\n",
      "    PIAIC Islamabad\n",
      "    id : 1\n",
      "    Name : Ali\n",
      "    Father's Name : Khan\n",
      "    Course : CS\n",
      "    Timing : 9\n",
      "    \n"
     ]
    }
   ],
   "source": [
    "print(id_card(1, sname='Ali',fname='Khan',course=\"CS\", timing=\"9\")) #positional arguments should be before kwargs"
   ]
  },
  {
   "cell_type": "markdown",
   "metadata": {},
   "source": [
    "# Argument with List"
   ]
  },
  {
   "cell_type": "code",
   "execution_count": 66,
   "metadata": {},
   "outputs": [
    {
     "name": "stdout",
     "output_type": "stream",
     "text": [
      "\n",
      "    PIAIC Islamabad\n",
      "    id : 1\n",
      "    Name : Qasim\n",
      "    Father's Name : Aslam\n",
      "    Course : AI\n",
      "    Timing : 9\n",
      "    \n"
     ]
    }
   ],
   "source": [
    "l1=[1,'Qasim','Aslam','AI','9']\n",
    "print(id_card(*l1))"
   ]
  },
  {
   "cell_type": "markdown",
   "metadata": {},
   "source": [
    "# Argument with Dictionary"
   ]
  },
  {
   "cell_type": "code",
   "execution_count": 68,
   "metadata": {},
   "outputs": [],
   "source": [
    "def id_card(sid, sname, fname, course, timing):\n",
    "    text = \"\"\"\n",
    "    PIAIC Islamabad\n",
    "    id : {}\n",
    "    Name : {}\n",
    "    Father's Name : {}\n",
    "    Course : {}\n",
    "    Timing : {}\n",
    "    \"\"\".format(sid, sname, fname, course, timing)\n",
    "    return text\n",
    "\n",
    "d1 = {\n",
    "    'course': 'AI',\n",
    "    'sname': 'Ali',\n",
    "    'timing': '9AM',\n",
    "    'fname': 'Khan',\n",
    "    'sid': 1\n",
    "}\n"
   ]
  },
  {
   "cell_type": "code",
   "execution_count": 70,
   "metadata": {},
   "outputs": [
    {
     "name": "stdout",
     "output_type": "stream",
     "text": [
      "\n",
      "    PIAIC Islamabad\n",
      "    id : 1\n",
      "    Name : Ali\n",
      "    Father's Name : Khan\n",
      "    Course : AI\n",
      "    Timing : 9AM\n",
      "    \n"
     ]
    }
   ],
   "source": [
    "print(id_card(**d1))   #Double asterik for extracting all key:values from dictionary and pass to a function"
   ]
  },
  {
   "cell_type": "markdown",
   "metadata": {},
   "source": [
    "# Recursive Function"
   ]
  },
  {
   "cell_type": "code",
   "execution_count": 71,
   "metadata": {},
   "outputs": [],
   "source": [
    "def abc(n):\n",
    "    if n==1:\n",
    "        return 1\n",
    "    return n*abc(n-1)"
   ]
  },
  {
   "cell_type": "code",
   "execution_count": 74,
   "metadata": {},
   "outputs": [
    {
     "data": {
      "text/plain": [
       "120"
      ]
     },
     "execution_count": 74,
     "metadata": {},
     "output_type": "execute_result"
    }
   ],
   "source": [
    "abc(5)"
   ]
  },
  {
   "cell_type": "markdown",
   "metadata": {},
   "source": [
    "# Generator Function"
   ]
  },
  {
   "cell_type": "code",
   "execution_count": 79,
   "metadata": {},
   "outputs": [
    {
     "name": "stdout",
     "output_type": "stream",
     "text": [
      "<generator object abc at 0x000001EC9682EA48>\n",
      "0\n",
      "1\n",
      "2\n",
      "3\n",
      "[4, 5, 6, 7, 8, 9, 10]\n"
     ]
    }
   ],
   "source": [
    "def abc():\n",
    "    for i in range(11):\n",
    "        yield i\n",
    "a = abc()\n",
    "print(a)\n",
    "print(next(a))\n",
    "print(next(a))   #remembers and prints the remaining elements\n",
    "print(next(a))\n",
    "print(next(a))\n",
    "print(list(a))   #list generates remaining elements in range"
   ]
  },
  {
   "cell_type": "code",
   "execution_count": 80,
   "metadata": {},
   "outputs": [],
   "source": [
    "#puraani value yaad rakhta hai\n",
    "#tamaam range ko memory allocate nahi karta"
   ]
  },
  {
   "cell_type": "markdown",
   "metadata": {},
   "source": [
    "# Lambda Function"
   ]
  },
  {
   "cell_type": "code",
   "execution_count": 81,
   "metadata": {},
   "outputs": [],
   "source": [
    "#one line function\n",
    "#without any name\n",
    "#one time use only"
   ]
  },
  {
   "cell_type": "code",
   "execution_count": 87,
   "metadata": {},
   "outputs": [
    {
     "data": {
      "text/plain": [
       "5"
      ]
     },
     "execution_count": 87,
     "metadata": {},
     "output_type": "execute_result"
    }
   ],
   "source": []
  },
  {
   "cell_type": "code",
   "execution_count": 88,
   "metadata": {},
   "outputs": [
    {
     "data": {
      "text/plain": [
       "5"
      ]
     },
     "execution_count": 88,
     "metadata": {},
     "output_type": "execute_result"
    }
   ],
   "source": [
    "def xyz(a,b) : return a+b\n",
    "xyz(2,3)"
   ]
  },
  {
   "cell_type": "code",
   "execution_count": 89,
   "metadata": {},
   "outputs": [],
   "source": [
    "xyz = lambda a,b: a+b"
   ]
  },
  {
   "cell_type": "code",
   "execution_count": 91,
   "metadata": {},
   "outputs": [],
   "source": [
    "greater = lambda a,b : b if(a<b) else a "
   ]
  },
  {
   "cell_type": "code",
   "execution_count": 95,
   "metadata": {},
   "outputs": [
    {
     "data": {
      "text/plain": [
       "9"
      ]
     },
     "execution_count": 95,
     "metadata": {},
     "output_type": "execute_result"
    }
   ],
   "source": [
    "greater(9,7)"
   ]
  },
  {
   "cell_type": "code",
   "execution_count": null,
   "metadata": {},
   "outputs": [],
   "source": []
  }
 ],
 "metadata": {
  "kernelspec": {
   "display_name": "Python 3",
   "language": "python",
   "name": "python3"
  },
  "language_info": {
   "codemirror_mode": {
    "name": "ipython",
    "version": 3
   },
   "file_extension": ".py",
   "mimetype": "text/x-python",
   "name": "python",
   "nbconvert_exporter": "python",
   "pygments_lexer": "ipython3",
   "version": "3.7.4"
  }
 },
 "nbformat": 4,
 "nbformat_minor": 2
}
