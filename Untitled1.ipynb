{
 "cells": [
  {
   "cell_type": "markdown",
   "metadata": {},
   "source": [
    "# Upwork"
   ]
  },
  {
   "cell_type": "raw",
   "metadata": {},
   "source": [
    "Proposal Writing:\n",
    "Start you proposal with a decompression zone:\n",
    "-> aglay ko space do, charhayi matt karo\n",
    "   first speak and then observe him\n",
    "-> Avoid Hybrid proposal\n",
    "   don't give same proposal to everyone, give customized proposal\n",
    "   sending proposal costs you\n",
    "-> Provide only good suggestion\n",
    "-> Be short and more practical\n",
    "-> Try to resemble you work with client's requirements\n",
    "-> Find common ground like same school he have gone\n",
    "-> Additional questions are shown first to the customer\n",
    "-> Ending should be for allowing to ask for more assistance\n",
    "-> Use Hi, {name}\n",
    "-> Don't be a widow/begger.\n",
    "-> Write less, 1 word = 1 year\n",
    "-> If you don't hire me you will get following disadvantages (Threat)\n",
    "-> Play strategically, use techniques\n"
   ]
  },
  {
   "cell_type": "markdown",
   "metadata": {},
   "source": [
    "# PyAutoGUI"
   ]
  },
  {
   "cell_type": "code",
   "execution_count": 1,
   "metadata": {},
   "outputs": [
    {
     "ename": "ModuleNotFoundError",
     "evalue": "No module named 'pyautogui'",
     "output_type": "error",
     "traceback": [
      "\u001b[1;31m---------------------------------------------------------------------------\u001b[0m",
      "\u001b[1;31mModuleNotFoundError\u001b[0m                       Traceback (most recent call last)",
      "\u001b[1;32m<ipython-input-1-a7911d0abb3a>\u001b[0m in \u001b[0;36m<module>\u001b[1;34m\u001b[0m\n\u001b[1;32m----> 1\u001b[1;33m \u001b[1;32mimport\u001b[0m \u001b[0mpyautogui\u001b[0m \u001b[1;32mas\u001b[0m \u001b[0mpg\u001b[0m\u001b[1;33m\u001b[0m\u001b[1;33m\u001b[0m\u001b[0m\n\u001b[0m",
      "\u001b[1;31mModuleNotFoundError\u001b[0m: No module named 'pyautogui'"
     ]
    }
   ],
   "source": [
    "import pyautogui as pg"
   ]
  },
  {
   "cell_type": "code",
   "execution_count": null,
   "metadata": {},
   "outputs": [],
   "source": []
  }
 ],
 "metadata": {
  "kernelspec": {
   "display_name": "Python 3",
   "language": "python",
   "name": "python3"
  },
  "language_info": {
   "codemirror_mode": {
    "name": "ipython",
    "version": 3
   },
   "file_extension": ".py",
   "mimetype": "text/x-python",
   "name": "python",
   "nbconvert_exporter": "python",
   "pygments_lexer": "ipython3",
   "version": "3.7.4"
  }
 },
 "nbformat": 4,
 "nbformat_minor": 2
}
